{
 "cells": [
  {
   "cell_type": "code",
   "execution_count": 1,
   "id": "5f9937fe-79b3-4cee-9bb2-3c4431c70bac",
   "metadata": {},
   "outputs": [],
   "source": [
    "from selenium import webdriver\n",
    "from selenium.webdriver.chrome.service import Service\n",
    "from selenium.webdriver.common.by import By\n",
    "from selenium.webdriver.chrome.options import Options\n",
    "from bs4 import BeautifulSoup\n",
    "import re"
   ]
  },
  {
   "cell_type": "code",
   "execution_count": 2,
   "id": "ea58dbb2-95fa-487e-be8c-ae80a18cccc9",
   "metadata": {},
   "outputs": [
    {
     "name": "stdout",
     "output_type": "stream",
     "text": [
      "Domicilios. En Tiendas D1, ¡si lo quieres lo tienes!\n"
     ]
    }
   ],
   "source": [
    "# Configurar opciones de Brave\n",
    "options = Options()\n",
    "options.binary_location = \"/usr/bin/brave-browser\"  # Cambia esto si es necesario\n",
    "\n",
    "# Crear instancia de servicio para ChromeDriver\n",
    "service = Service('/usr/local/bin/chromedriver/chromedriver')\n",
    "\n",
    "# Iniciar el navegador\n",
    "driver = webdriver.Chrome(service=service, options=options)\n",
    "\n",
    "# Abrir una página web\n",
    "driver.get('https://domicilios.tiendasd1.com/search?name=agua')\n",
    "\n",
    "\n",
    "# Obtener el HTML de la página\n",
    "html = driver.page_source\n",
    "\n",
    "# Interactuar con la página\n",
    "print(driver.title)\n",
    "\n",
    "# Cerrar el navegador\n",
    "driver.quit()"
   ]
  },
  {
   "cell_type": "code",
   "execution_count": 5,
   "id": "b48cfe71-2356-4f88-9988-cbc3aadde6a2",
   "metadata": {},
   "outputs": [
    {
     "name": "stdout",
     "output_type": "stream",
     "text": [
      "['<div id=\"app\">', '<div class=\"skeleton\">', '<div class=\"skeleton header v3\">', '<div class=\"skeleton header__main\">', '<div class=\"skeleton header__logo\">', '<div class=\"skeleton header__secondary\">', '<div class=\"skeleton main-loader\">', '<div style=\"display: none; visibility: hidden;\">', '<div>']\n"
     ]
    },
    {
     "ename": "TypeError",
     "evalue": "'NoneType' object is not iterable",
     "output_type": "error",
     "traceback": [
      "\u001b[0;31m---------------------------------------------------------------------------\u001b[0m",
      "\u001b[0;31mTypeError\u001b[0m                                 Traceback (most recent call last)",
      "Cell \u001b[0;32mIn[5], line 30\u001b[0m\n\u001b[1;32m     27\u001b[0m \u001b[38;5;66;03m# Output the list of all divs\u001b[39;00m\n\u001b[1;32m     28\u001b[0m dd \u001b[38;5;241m=\u001b[39m soup\u001b[38;5;241m.\u001b[39mfind(\u001b[38;5;124m'\u001b[39m\u001b[38;5;124mdiv\u001b[39m\u001b[38;5;124m'\u001b[39m, {\u001b[38;5;124m'\u001b[39m\u001b[38;5;124mclass\u001b[39m\u001b[38;5;124m'\u001b[39m: \u001b[38;5;124m'\u001b[39m\u001b[38;5;124mbanners-container\u001b[39m\u001b[38;5;124m'\u001b[39m})\n\u001b[0;32m---> 30\u001b[0m \u001b[38;5;28;01mfor\u001b[39;00m i \u001b[38;5;129;01min\u001b[39;00m dd:\n\u001b[1;32m     31\u001b[0m     \u001b[38;5;28mprint\u001b[39m(i)\n",
      "\u001b[0;31mTypeError\u001b[0m: 'NoneType' object is not iterable"
     ]
    }
   ],
   "source": [
    "# Parsear el HTML usando BeautifulSoup\n",
    "\n",
    "soup = BeautifulSoup(html, 'html.parser')\n",
    "\n",
    "divi = soup.findAll('div')\n",
    "\n",
    "# Regex pattern to match the first 'div' tag\n",
    "div_pattern = re.compile(r'<*[^>]*>')\n",
    "\n",
    "# Function to extract the first 'div' tag using regex\n",
    "def get_first_div_with_regex(element):\n",
    "    element_str = str(element)\n",
    "    match = div_pattern.search(element_str)\n",
    "    if match:\n",
    "        return match.group(0)\n",
    "    return None\n",
    "\n",
    "# Extract the first 'div' tags from the result set\n",
    "first_div_elements = []\n",
    "for element in divi:\n",
    "    first_div = get_first_div_with_regex(element)\n",
    "    if first_div:\n",
    "        first_div_elements.append(first_div)\n",
    "\n",
    "print(first_div_elements)\n",
    "\n",
    "# Output the list of all divs\n",
    "dd = soup.find('div', {'class': 'banners-container'})\n",
    "\n",
    "for i in dd:\n",
    "    print(i)\n",
    "\n"
   ]
  }
 ],
 "metadata": {
  "kernelspec": {
   "display_name": "Python 3 (ipykernel)",
   "language": "python",
   "name": "python3"
  },
  "language_info": {
   "codemirror_mode": {
    "name": "ipython",
    "version": 3
   },
   "file_extension": ".py",
   "mimetype": "text/x-python",
   "name": "python",
   "nbconvert_exporter": "python",
   "pygments_lexer": "ipython3",
   "version": "3.12.2"
  }
 },
 "nbformat": 4,
 "nbformat_minor": 5
}
